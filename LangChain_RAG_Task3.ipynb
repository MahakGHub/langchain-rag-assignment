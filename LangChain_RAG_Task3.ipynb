{
  "cells": [
    {
      "cell_type": "markdown",
      "metadata": {},
      "source": [
        "# 🧠 Task 3: LangChain RAG Pipeline\n",
        "Setup a Retrieval-Augmented Generation (RAG) pipeline using LangChain, Chroma or FAISS, and Ollama-compatible LLMs."
      ]
    },
    {
      "cell_type": "code",
      "execution_count": null,
      "metadata": {},
      "outputs": [],
      "source": [
        "# ✅ Step 1: Install Required Packages\n",
        "!pip install langchain chromadb faiss-cpu huggingface_hub pypdf sentence-transformers"
      ]
    },
    {
      "cell_type": "code",
      "execution_count": null,
      "metadata": {},
      "outputs": [],
      "source": [
        "# ✅ Step 2: Load & Split PDF/Text File\n",
        "from langchain.document_loaders import PyPDFLoader\n",
        "from langchain.text_splitter import RecursiveCharacterTextSplitter\n",
        "\n",
        "# Load your document\n",
        "pdf_path = "/content/sample.pdf"  # Upload your file in Colab first\n",
        "loader = PyPDFLoader(pdf_path)\n",
        "documents = loader.load()\n",
        "\n",
        "# Split into chunks\n",
        "text_splitter = RecursiveCharacterTextSplitter(chunk_size=500, chunk_overlap=50)\n",
        "docs = text_splitter.split_documents(documents)\n",
        "print(f"Split into {len(docs)} chunks")"
      ]
    },
    {
      "cell_type": "code",
      "execution_count": null,
      "metadata": {},
      "outputs": [],
      "source": [
        "# ✅ Step 3: Convert to Embeddings\n",
        "from langchain.embeddings import HuggingFaceEmbeddings\n",
        "\n",
        "embedding_model = HuggingFaceEmbeddings(model_name="sentence-transformers/all-MiniLM-L6-v2")\n",
        "doc_embeddings = embedding_model.embed_documents([d.page_content for d in docs])"
      ]
    },
    {
      "cell_type": "code",
      "execution_count": null,
      "metadata": {},
      "outputs": [],
      "source": [
        "# ✅ Step 4: Store in Vector DB (Chroma or FAISS)\n",
        "from langchain.vectorstores import Chroma\n",
        "\n",
        "vectorstore = Chroma.from_documents(documents=docs, embedding=embedding_model)\n",
        "retriever = vectorstore.as_retriever()"
      ]
    },
    {
      "cell_type": "code",
      "execution_count": null,
      "metadata": {},
      "outputs": [],
      "source": [
        "# ✅ Step 5: Setup RetrievalQA Chain (Local LLM not required to run here)\n",
        "from langchain.chains import RetrievalQA\n",
        "from langchain.llms import HuggingFaceHub\n",
        "\n",
        "# You can use HuggingFaceHub for testing (replace with Ollama locally)\n",
        "llm = HuggingFaceHub(repo_id="google/flan-t5-small", model_kwargs={"temperature": 0.5})\n",
        "qa = RetrievalQA.from_chain_type(llm=llm, retriever=retriever)\n",
        "\n",
        "# ✅ Ask your question\n",
        "query = "What is the main objective of the paper?"\n",
        "result = qa.run(query)\n",
        "print("Answer:", result)"
      ]
    }
  ],
  "metadata": {
    "colab": {
      "name": "LangChain_RAG_Task3.ipynb",
      "provenance": []
    },
    "kernelspec": {
      "display_name": "Python 3",
      "language": "python",
      "name": "python3"
    },
    "language_info": {
      "name": "python"
    }
  },
  "nbformat": 4,
  "nbformat_minor": 0
}